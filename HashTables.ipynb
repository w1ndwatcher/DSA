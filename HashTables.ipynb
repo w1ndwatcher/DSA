{
 "cells": [
  {
   "cell_type": "code",
   "execution_count": 19,
   "metadata": {},
   "outputs": [],
   "source": [
    "class HashTable:\n",
    "    def __init__(self, size = 7):\n",
    "        self.data_map = [None] * size\n",
    "    \n",
    "    # The double underscore (__hash) makes it a private method, meaning it is intended for internal use within the class.\n",
    "    def __hash(self, key):\n",
    "        \"\"\"\n",
    "        This method generates a hash value for a given key using a simple hash function.\n",
    "        It ensures that the generated index stays within the bounds of `self.data_map`.\n",
    "        \"\"\"\n",
    "        # Initialize the hash value to 0\n",
    "        my_hash = 0  \n",
    "        # Loop through each character in the key string\n",
    "        for letter in key:  \n",
    "            # Convert the character to its ASCII value using ord()\n",
    "            # print(\"Letter: \",letter)\n",
    "            # print(\"ASCII value: \", ord(letter))\n",
    "            # Multiply the ASCII value by 23 (a prime number used as a multiplier to distribute hash values more evenly)\n",
    "            # print(\"Mul by 23: \",ord(letter)*23)\n",
    "            # Add this value to the current hash\n",
    "            # print(\"Sum with hash: \",my_hash + ord(letter) * 23)\n",
    "            # print(\"Length of Data Map: \",len(self.data_map))\n",
    "            # Take the modulus with the length of self.data_map to keep the value within valid indices\n",
    "            my_hash = (my_hash + ord(letter) * 23) % len(self.data_map)  \n",
    "            #print(\"Hash value: \",my_hash)\n",
    "        # Return the final computed hash value\n",
    "        return my_hash  \n",
    "    \n",
    "    def print_table(self):\n",
    "        # enumerate() function in Python is used to iterate over a sequence (like a list, tuple, or string) while keeping track of the index of each item.\n",
    "        for i,val in enumerate(self.data_map):\n",
    "            print(i, \":\", val)\n",
    "            \n",
    "    def set_item(self, key, value):\n",
    "        index = self.__hash(key)\n",
    "        if self.data_map[index] == None:\n",
    "            # initialize an empty list at that index\n",
    "            self.data_map[index] = []\n",
    "        self.data_map[index].append([key,value])\n",
    "        \n",
    "    def get_item(self,key):\n",
    "        index = self.__hash(key)\n",
    "        if self.data_map[index] is not None:\n",
    "            for i in range(len(self.data_map[index])):\n",
    "                if self.data_map[index][i][0] == key:\n",
    "                    return self.data_map[index][i][1]\n",
    "        return None\n",
    "    \n",
    "    def keys(self):\n",
    "        all_keys = []\n",
    "        for i in range(len(self.data_map)):\n",
    "            if self.data_map[i] is not None:\n",
    "                for j in range(len(self.data_map[i])):\n",
    "                    all_keys.append(self.data_map[i][j][0])\n",
    "        return all_keys\n",
    "                \n"
   ]
  },
  {
   "cell_type": "code",
   "execution_count": 20,
   "metadata": {},
   "outputs": [
    {
     "name": "stdout",
     "output_type": "stream",
     "text": [
      "0 : None\n",
      "1 : None\n",
      "2 : None\n",
      "3 : None\n",
      "4 : None\n",
      "5 : None\n",
      "6 : None\n"
     ]
    }
   ],
   "source": [
    "my_hash_table = HashTable()\n",
    "my_hash_table.print_table()"
   ]
  },
  {
   "cell_type": "code",
   "execution_count": 21,
   "metadata": {},
   "outputs": [
    {
     "name": "stdout",
     "output_type": "stream",
     "text": [
      "0 : None\n",
      "1 : None\n",
      "2 : None\n",
      "3 : None\n",
      "4 : [['bolts', 1400], ['washers', 50]]\n",
      "5 : None\n",
      "6 : [['lumber', 70]]\n"
     ]
    }
   ],
   "source": [
    "my_hash_table.set_item('bolts', 1400)\n",
    "my_hash_table.set_item('washers', 50)\n",
    "my_hash_table.set_item('lumber', 70)\n",
    "\n",
    "my_hash_table.print_table()"
   ]
  },
  {
   "cell_type": "code",
   "execution_count": 17,
   "metadata": {},
   "outputs": [
    {
     "name": "stdout",
     "output_type": "stream",
     "text": [
      "0 : None\n",
      "1 : None\n",
      "2 : None\n",
      "3 : None\n",
      "4 : [['bolts', 1400], ['washers', 50]]\n",
      "5 : None\n",
      "6 : None\n"
     ]
    }
   ],
   "source": [
    "my_hash_table.set_item('bolts', 1400)\n",
    "my_hash_table.set_item('washers', 50)\n",
    "\n",
    "my_hash_table.print_table()"
   ]
  },
  {
   "cell_type": "code",
   "execution_count": 18,
   "metadata": {},
   "outputs": [
    {
     "name": "stdout",
     "output_type": "stream",
     "text": [
      "1400\n",
      "50\n",
      "None\n"
     ]
    }
   ],
   "source": [
    "print(my_hash_table.get_item('bolts'))\n",
    "print(my_hash_table.get_item('washers'))\n",
    "print(my_hash_table.get_item('lumber'))"
   ]
  },
  {
   "cell_type": "code",
   "execution_count": 22,
   "metadata": {},
   "outputs": [
    {
     "name": "stdout",
     "output_type": "stream",
     "text": [
      "['bolts', 'washers', 'lumber']\n"
     ]
    }
   ],
   "source": [
    "print(my_hash_table.keys())"
   ]
  }
 ],
 "metadata": {
  "kernelspec": {
   "display_name": "Python 3",
   "language": "python",
   "name": "python3"
  },
  "language_info": {
   "codemirror_mode": {
    "name": "ipython",
    "version": 3
   },
   "file_extension": ".py",
   "mimetype": "text/x-python",
   "name": "python",
   "nbconvert_exporter": "python",
   "pygments_lexer": "ipython3",
   "version": "3.12.4"
  }
 },
 "nbformat": 4,
 "nbformat_minor": 2
}
