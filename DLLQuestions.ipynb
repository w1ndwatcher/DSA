{
 "cells": [
  {
   "cell_type": "markdown",
   "metadata": {},
   "source": [
    "<h2>Swap the values of the first and last node</h2>"
   ]
  },
  {
   "cell_type": "code",
   "execution_count": 1,
   "metadata": {},
   "outputs": [
    {
     "name": "stdout",
     "output_type": "stream",
     "text": [
      "DLL before swap_first_last():\n",
      "1\n",
      "2\n",
      "3\n",
      "4\n",
      "\n",
      "DLL after swap_first_last():\n",
      "4\n",
      "2\n",
      "3\n",
      "1\n"
     ]
    },
    {
     "data": {
      "text/plain": [
       "'\\n    EXPECTED OUTPUT:\\n    ----------------\\n    DLL before swap_first_last():\\n    1\\n    2\\n    3\\n    4\\n\\n    DLL after swap_first_last():\\n    4\\n    2\\n    3\\n    1\\n\\n'"
      ]
     },
     "execution_count": 1,
     "metadata": {},
     "output_type": "execute_result"
    }
   ],
   "source": [
    "class Node:\n",
    "    def __init__(self, value):\n",
    "        self.value = value\n",
    "        self.next = None\n",
    "        self.prev = None\n",
    "        \n",
    "\n",
    "class DoublyLinkedList:\n",
    "    def __init__(self, value):\n",
    "        new_node = Node(value)\n",
    "        self.head = new_node\n",
    "        self.tail = new_node\n",
    "        self.length = 1\n",
    "\n",
    "    def print_list(self):\n",
    "        temp = self.head\n",
    "        while temp is not None:\n",
    "            print(temp.value)\n",
    "            temp = temp.next\n",
    "        \n",
    "    def append(self, value):\n",
    "        new_node = Node(value)\n",
    "        if self.head is None:\n",
    "            self.head = new_node\n",
    "            self.tail = new_node\n",
    "        else:\n",
    "            self.tail.next = new_node\n",
    "            new_node.prev = self.tail\n",
    "            self.tail = new_node\n",
    "        self.length += 1\n",
    "        return True\n",
    "\n",
    "    # WRITE SWAP_FIRST_LAST METHOD HERE #\n",
    "    def swap_first_last(self):\n",
    "        if self.length <= 0:\n",
    "            return None\n",
    "        else:\n",
    "            first = self.head.value\n",
    "            self.head.value = self.tail.value\n",
    "            self.tail.value = first\n",
    "    #####################################\n",
    "    \n",
    "    \n",
    "    \n",
    "\n",
    "my_doubly_linked_list = DoublyLinkedList(1)\n",
    "my_doubly_linked_list.append(2)\n",
    "my_doubly_linked_list.append(3)\n",
    "my_doubly_linked_list.append(4)\n",
    "\n",
    "\n",
    "print('DLL before swap_first_last():')\n",
    "my_doubly_linked_list.print_list()\n",
    "\n",
    "\n",
    "my_doubly_linked_list.swap_first_last()\n",
    "\n",
    "\n",
    "print('\\nDLL after swap_first_last():')\n",
    "my_doubly_linked_list.print_list()\n",
    "\n",
    "\n",
    "\n",
    "\"\"\"\n",
    "    EXPECTED OUTPUT:\n",
    "    ----------------\n",
    "    DLL before swap_first_last():\n",
    "    1\n",
    "    2\n",
    "    3\n",
    "    4\n",
    "\n",
    "    DLL after swap_first_last():\n",
    "    4\n",
    "    2\n",
    "    3\n",
    "    1\n",
    "\n",
    "\"\"\""
   ]
  },
  {
   "cell_type": "markdown",
   "metadata": {},
   "source": [
    "<hr>"
   ]
  },
  {
   "cell_type": "markdown",
   "metadata": {},
   "source": [
    "<h2>Reverse a DLL</h2>"
   ]
  },
  {
   "cell_type": "code",
   "execution_count": null,
   "metadata": {},
   "outputs": [],
   "source": []
  }
 ],
 "metadata": {
  "kernelspec": {
   "display_name": "Python 3",
   "language": "python",
   "name": "python3"
  },
  "language_info": {
   "codemirror_mode": {
    "name": "ipython",
    "version": 3
   },
   "file_extension": ".py",
   "mimetype": "text/x-python",
   "name": "python",
   "nbconvert_exporter": "python",
   "pygments_lexer": "ipython3",
   "version": "3.12.4"
  }
 },
 "nbformat": 4,
 "nbformat_minor": 2
}
